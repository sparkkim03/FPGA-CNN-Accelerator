{
 "cells": [
  {
   "cell_type": "code",
   "execution_count": 2,
   "id": "76df4820",
   "metadata": {},
   "outputs": [],
   "source": [
    "import numpy as np\n",
    "from scipy import signal\n",
    "import torch\n",
    "from skimage.measure import block_reduce"
   ]
  },
  {
   "cell_type": "code",
   "execution_count": 15,
   "id": "5c6c3ca1",
   "metadata": {},
   "outputs": [
    {
     "name": "stderr",
     "output_type": "stream",
     "text": [
      "/var/folders/hv/4b688pdd2s33m7ndy82kcf6c0000gn/T/ipykernel_51216/3495782225.py:1: FutureWarning: You are using `torch.load` with `weights_only=False` (the current default value), which uses the default pickle module implicitly. It is possible to construct malicious pickle data which will execute arbitrary code during unpickling (See https://github.com/pytorch/pytorch/blob/main/SECURITY.md#untrusted-models for more details). In a future release, the default value for `weights_only` will be flipped to `True`. This limits the functions that could be executed during unpickling. Arbitrary objects will no longer be allowed to be loaded via this mode unless they are explicitly allowlisted by the user via `torch.serialization.add_safe_globals`. We recommend you start setting `weights_only=True` for any use case where you don't have full control of the loaded file. Please open an issue on GitHub for any issues related to this experimental feature.\n",
      "  model = torch.load(\"lenet5_mnist_model.pth\")\n",
      "/var/folders/hv/4b688pdd2s33m7ndy82kcf6c0000gn/T/ipykernel_51216/3495782225.py:3: FutureWarning: You are using `torch.load` with `weights_only=False` (the current default value), which uses the default pickle module implicitly. It is possible to construct malicious pickle data which will execute arbitrary code during unpickling (See https://github.com/pytorch/pytorch/blob/main/SECURITY.md#untrusted-models for more details). In a future release, the default value for `weights_only` will be flipped to `True`. This limits the functions that could be executed during unpickling. Arbitrary objects will no longer be allowed to be loaded via this mode unless they are explicitly allowlisted by the user via `torch.serialization.add_safe_globals`. We recommend you start setting `weights_only=True` for any use case where you don't have full control of the loaded file. Please open an issue on GitHub for any issues related to this experimental feature.\n",
      "  model_state = torch.load(\"lenet5_mnist_model.pth\", map_location=torch.device('cpu'))\n"
     ]
    }
   ],
   "source": [
    "model = torch.load(\"lenet5_mnist_model.pth\")\n",
    "\n",
    "model_state = torch.load(\"lenet5_mnist_model.pth\", map_location=torch.device('cpu'))\n",
    "conv1_weight = model_state['conv1.weight'].numpy()\n",
    "conv1_bias = model_state['conv1.bias'].numpy()\n",
    "conv2_weight = model_state['conv2.weight'].numpy()\n",
    "conv2_bias = model_state['conv2.bias'].numpy()\n",
    "fc1_weight = model_state['fc1.weight'].numpy()\n",
    "fc1_bias = model_state['fc1.bias'].numpy()\n",
    "fc2_weight = model_state['fc2.weight'].numpy()\n",
    "fc2_bias = model_state['fc2.bias'].numpy()\n",
    "fc3_weight = model_state['fc3.weight'].numpy()\n",
    "fc3_bias = model_state['fc3.bias'].numpy()\n",
    "\n",
    "\n",
    "# --- Define constants to match C headers ---\n",
    "FILTER_SIZE = 5\n",
    "NUM_FILTER_ONE = 6\n",
    "NUM_FILTER_TWO = 16\n",
    "INPUT_SIZE_ONE = 28\n",
    "OUTPUT_SIZE_ONE = 24\n",
    "POOL_OUTPUT_SIZE_ONE = 12\n",
    "INPUT_SIZE_TWO = 12\n",
    "OUTPUT_SIZE_TWO = 8\n",
    "POOL_OUTPUT_SIZE_TWO = 4\n",
    "FC_LAYER_SIZE_ONE = 256 # 16 * 4 * 4\n",
    "FC_LAYER_SIZE_TWO = 120\n",
    "FC_LAYER_SIZE_THREE = 84\n",
    "FC_LAYER_SIZE_FOUR = 10\n",
    "POOL_SIZE = 2\n"
   ]
  },
  {
   "cell_type": "code",
   "execution_count": 16,
   "id": "35360288",
   "metadata": {},
   "outputs": [],
   "source": [
    "def print_feature_map_corner(feature_map, name, map_idx):\n",
    "    print(f\"  {name} {map_idx} (Top-Left Corner):\")\n",
    "    np.set_printoptions(precision=6, suppress=True, floatmode='fixed', sign=' ')\n",
    "    print_rows = min(feature_map.shape[0], 5)\n",
    "    print_cols = min(feature_map.shape[1], 5)\n",
    "    corner = feature_map[:print_rows, :print_cols]\n",
    "    for row in corner:\n",
    "        print(\"    \", \" \".join([f\"{x:+10.6f}\" for x in row]))\n",
    "    print()\n",
    "\n",
    "def print_output_vector(vector, name):\n",
    "    print(f\"  {name}:\")\n",
    "    np.set_printoptions(precision=6, suppress=True, floatmode='fixed')\n",
    "    print(f\"    [{', '.join([f'{x:8.6f}' for x in vector])}]\")\n",
    "    print()\n",
    "\n",
    "def softmax(x):\n",
    "    e_x = np.exp(x - np.max(x))\n",
    "    return e_x / e_x.sum(axis=0)"
   ]
  },
  {
   "cell_type": "code",
   "execution_count": 17,
   "id": "6f58ccc7",
   "metadata": {},
   "outputs": [
    {
     "name": "stdout",
     "output_type": "stream",
     "text": [
      "--- Preparing Test Input ---\n",
      "Input prepared.\n",
      "\n"
     ]
    }
   ],
   "source": [
    "# --- 1. Prepare Test Input ---\n",
    "print(\"--- Preparing Test Input ---\")\n",
    "input_one = np.zeros((INPUT_SIZE_ONE, INPUT_SIZE_ONE), dtype=np.float32)\n",
    "for i in range(INPUT_SIZE_ONE):\n",
    "    for j in range(INPUT_SIZE_ONE):\n",
    "        input_one[i, j] = (i + j) / 100.0\n",
    "print(\"Input prepared.\\n\")"
   ]
  },
  {
   "cell_type": "code",
   "execution_count": 18,
   "id": "c6aa0aa6",
   "metadata": {},
   "outputs": [
    {
     "name": "stdout",
     "output_type": "stream",
     "text": [
      "--- Running CONV1 ---\n",
      "CONV1 complete. Printing results (pre-activation)...\n",
      "\n",
      "  Feature Map (Pre-ReLU) 0 (Top-Left Corner):\n",
      "      -0.097587  -0.091909  -0.086230  -0.080551  -0.074873\n",
      "      -0.091909  -0.086230  -0.080551  -0.074873  -0.069194\n",
      "      -0.086230  -0.080551  -0.074873  -0.069194  -0.063515\n",
      "      -0.080551  -0.074873  -0.069194  -0.063515  -0.057837\n",
      "      -0.074873  -0.069194  -0.063515  -0.057837  -0.052158\n",
      "\n"
     ]
    }
   ],
   "source": [
    "# --- 2. CONV1 -> RELU -> POOL1 Pipeline ---\n",
    "print(\"--- Running CONV1 ---\")\n",
    "output_one = np.zeros((NUM_FILTER_ONE, OUTPUT_SIZE_ONE, OUTPUT_SIZE_ONE), dtype=np.float32)\n",
    "for f_idx in range(NUM_FILTER_ONE):\n",
    "    kernel = conv1_weight[f_idx, 0, :, :]\n",
    "    conv_result = signal.correlate2d(input_one, kernel, mode='valid')\n",
    "    np.add(conv_result, conv1_bias[f_idx], out=output_one[f_idx, :, :])\n",
    "print(\"CONV1 complete. Printing results (pre-activation)...\\n\")\n",
    "print_feature_map_corner(output_one[0], \"Feature Map (Pre-ReLU)\", 0)"
   ]
  },
  {
   "cell_type": "code",
   "execution_count": 19,
   "id": "d1bae8ba",
   "metadata": {},
   "outputs": [
    {
     "name": "stdout",
     "output_type": "stream",
     "text": [
      "--- Applying ReLU to CONV1 Output ---\n",
      "ReLU complete. Printing results...\n",
      "\n",
      "  Feature Map (Post-ReLU) 0 (Top-Left Corner):\n",
      "      +0.000000  +0.000000  +0.000000  +0.000000  +0.000000\n",
      "      +0.000000  +0.000000  +0.000000  +0.000000  +0.000000\n",
      "      +0.000000  +0.000000  +0.000000  +0.000000  +0.000000\n",
      "      +0.000000  +0.000000  +0.000000  +0.000000  +0.000000\n",
      "      +0.000000  +0.000000  +0.000000  +0.000000  +0.000000\n",
      "\n"
     ]
    }
   ],
   "source": [
    "print(\"--- Applying ReLU to CONV1 Output ---\")\n",
    "output_one_relu = np.maximum(0, output_one)\n",
    "print(\"ReLU complete. Printing results...\\n\")\n",
    "print_feature_map_corner(output_one_relu[0], \"Feature Map (Post-ReLU)\", 0)"
   ]
  },
  {
   "cell_type": "code",
   "execution_count": 20,
   "id": "81cc704a",
   "metadata": {},
   "outputs": [
    {
     "name": "stdout",
     "output_type": "stream",
     "text": [
      "--- Running POOL1 ---\n",
      "POOL1 complete. Printing results...\n",
      "\n",
      "  Pooled Map 0 (Top-Left Corner):\n",
      "      +0.000000  +0.000000  +0.000000  +0.000000  +0.000000\n",
      "      +0.000000  +0.000000  +0.000000  +0.000000  +0.000000\n",
      "      +0.000000  +0.000000  +0.000000  +0.000000  +0.000000\n",
      "      +0.000000  +0.000000  +0.000000  +0.000000  +0.000000\n",
      "      +0.000000  +0.000000  +0.000000  +0.000000  +0.004629\n",
      "\n"
     ]
    }
   ],
   "source": [
    "print(\"--- Running POOL1 ---\")\n",
    "pool_one_output = block_reduce(output_one_relu, block_size=(1, POOL_SIZE, POOL_SIZE), func=np.max).squeeze()\n",
    "print(\"POOL1 complete. Printing results...\\n\")\n",
    "print_feature_map_corner(pool_one_output[0], \"Pooled Map\", 0)"
   ]
  },
  {
   "cell_type": "code",
   "execution_count": 21,
   "id": "9f06636a",
   "metadata": {},
   "outputs": [
    {
     "name": "stdout",
     "output_type": "stream",
     "text": [
      "--- Running CONV2 ---\n",
      "CONV2 complete. Printing results (pre-activation)...\n",
      "\n",
      "  Feature Map (Pre-ReLU) 0 (Top-Left Corner):\n",
      "      +0.041441  +0.041686  +0.041956  +0.042058  +0.042791\n",
      "      +0.041686  +0.041956  +0.042058  +0.042791  +0.044814\n",
      "      +0.041956  +0.042058  +0.042791  +0.044814  +0.045892\n",
      "      +0.042058  +0.042791  +0.044814  +0.045892  +0.045218\n",
      "      +0.042791  +0.044814  +0.045892  +0.045218  +0.042223\n",
      "\n"
     ]
    }
   ],
   "source": [
    "# --- 3. CONV2 -> RELU -> POOL2 Pipeline ---\n",
    "print(\"--- Running CONV2 ---\")\n",
    "output_two = np.zeros((NUM_FILTER_TWO, OUTPUT_SIZE_TWO, OUTPUT_SIZE_TWO), dtype=np.float32)\n",
    "for f_idx in range(NUM_FILTER_TWO):\n",
    "    total_conv_result = np.zeros((OUTPUT_SIZE_TWO, OUTPUT_SIZE_TWO), dtype=np.float32)\n",
    "    for c_idx in range(NUM_FILTER_ONE):\n",
    "        input_channel = pool_one_output[c_idx, :, :]\n",
    "        kernel = conv2_weight[f_idx, c_idx, :, :]\n",
    "        conv_result_inner = signal.correlate2d(input_channel, kernel, mode='valid')\n",
    "        np.add(total_conv_result, conv_result_inner, out=total_conv_result)\n",
    "    np.add(total_conv_result, conv2_bias[f_idx], out=output_two[f_idx, :, :])\n",
    "print(\"CONV2 complete. Printing results (pre-activation)...\\n\")\n",
    "print_feature_map_corner(output_two[0], \"Feature Map (Pre-ReLU)\", 0)"
   ]
  },
  {
   "cell_type": "code",
   "execution_count": 22,
   "id": "5c37a45e",
   "metadata": {},
   "outputs": [
    {
     "name": "stdout",
     "output_type": "stream",
     "text": [
      "--- Applying ReLU to CONV2 Output ---\n",
      "ReLU complete. Printing results...\n",
      "\n",
      "  Feature Map (Post-ReLU) 0 (Top-Left Corner):\n",
      "      +0.041441  +0.041686  +0.041956  +0.042058  +0.042791\n",
      "      +0.041686  +0.041956  +0.042058  +0.042791  +0.044814\n",
      "      +0.041956  +0.042058  +0.042791  +0.044814  +0.045892\n",
      "      +0.042058  +0.042791  +0.044814  +0.045892  +0.045218\n",
      "      +0.042791  +0.044814  +0.045892  +0.045218  +0.042223\n",
      "\n"
     ]
    }
   ],
   "source": [
    "print(\"--- Applying ReLU to CONV2 Output ---\")\n",
    "output_two_relu = np.maximum(0, output_two)\n",
    "print(\"ReLU complete. Printing results...\\n\")\n",
    "print_feature_map_corner(output_two_relu[0], \"Feature Map (Post-ReLU)\", 0)"
   ]
  },
  {
   "cell_type": "code",
   "execution_count": 23,
   "id": "89d11b1b",
   "metadata": {},
   "outputs": [
    {
     "name": "stdout",
     "output_type": "stream",
     "text": [
      "--- Running POOL2 ---\n",
      "POOL2 complete. Printing results...\n",
      "\n",
      "  Pooled Map 0 (Top-Left Corner):\n",
      "      +0.041956  +0.042791  +0.045892  +0.045892\n",
      "      +0.042791  +0.045892  +0.045892  +0.042223\n",
      "      +0.045892  +0.045892  +0.042223  +0.034246\n",
      "      +0.045892  +0.042223  +0.034246  +0.026270\n",
      "\n"
     ]
    }
   ],
   "source": [
    "print(\"--- Running POOL2 ---\")\n",
    "pool_two_output = block_reduce(output_two_relu, block_size=(1, POOL_SIZE, POOL_SIZE), func=np.max).squeeze()\n",
    "print(\"POOL2 complete. Printing results...\\n\")\n",
    "print_feature_map_corner(pool_two_output[0], \"Pooled Map\", 0)"
   ]
  },
  {
   "cell_type": "code",
   "execution_count": 31,
   "id": "97def0cb",
   "metadata": {},
   "outputs": [
    {
     "name": "stdout",
     "output_type": "stream",
     "text": [
      "--- Flattening Output for Dense Layers ---\n",
      "Flattening complete. Input size for FC1: 256\n",
      "\n",
      "  Logits (INITIAL):\n",
      "    [0.041956, 0.042791, 0.045892, 0.045892, 0.042791, 0.045892, 0.045892, 0.042223, 0.045892, 0.045892, 0.042223, 0.034246, 0.045892, 0.042223, 0.034246, 0.026270, 0.000000, 0.000000, 0.000000, 0.000000, 0.000000, 0.000000, 0.000000, 0.000000, 0.000000, 0.000000, 0.000000, 0.000000, 0.000000, 0.000000, 0.000000, 0.000000, 0.000000, 0.000000, 0.000000, 0.000000, 0.000000, 0.000000, 0.000000, 0.000000, 0.000000, 0.000000, 0.000000, 0.000000, 0.000000, 0.000000, 0.000000, 0.000000, 0.000000, 0.000000, 0.000000, 0.000000, 0.000000, 0.000000, 0.000000, 0.000000, 0.000000, 0.000000, 0.000000, 0.000000, 0.000000, 0.000000, 0.000000, 0.000000, 0.000000, 0.000000, 0.000000, 0.000000, 0.000000, 0.000000, 0.000000, 0.000000, 0.000000, 0.000000, 0.000000, 0.000000, 0.000000, 0.000000, 0.000000, 0.000000, 0.000000, 0.000000, 0.000000, 0.000000, 0.000000, 0.000000, 0.000000, 0.000000, 0.000000, 0.000000, 0.000000, 0.000000, 0.000000, 0.000000, 0.000000, 0.000000, 0.000000, 0.000000, 0.000000, 0.000000, 0.000000, 0.000000, 0.000000, 0.000000, 0.000000, 0.000000, 0.000000, 0.000000, 0.000000, 0.000000, 0.000000, 0.000000, 0.000000, 0.000000, 0.000000, 0.000000, 0.000000, 0.000000, 0.000000, 0.000000, 0.000000, 0.000000, 0.000000, 0.000000, 0.000000, 0.000000, 0.000000, 0.000000, 0.000000, 0.000000, 0.000000, 0.000000, 0.000000, 0.000000, 0.000000, 0.000000, 0.000000, 0.000000, 0.000000, 0.000000, 0.000000, 0.000000, 0.000000, 0.000000, 0.000000, 0.000000, 0.000000, 0.000000, 0.000000, 0.000000, 0.000000, 0.000000, 0.000000, 0.000000, 0.000000, 0.000000, 0.000000, 0.000000, 0.000000, 0.000000, 0.000000, 0.000000, 0.000000, 0.000000, 0.000000, 0.000000, 0.000000, 0.000000, 0.000000, 0.000000, 0.000000, 0.000000, 0.000000, 0.000000, 0.000000, 0.000000, 0.000000, 0.000000, 0.000000, 0.000000, 0.000000, 0.000000, 0.000000, 0.000000, 0.000000, 0.000000, 0.000000, 0.000000, 0.000000, 0.000000, 0.000000, 0.000000, 0.000000, 0.000000, 0.000000, 0.000000, 0.000000, 0.000000, 0.000000, 0.000000, 0.000000, 0.000000, 0.000000, 0.000000, 0.000000, 0.000000, 0.000000, 0.000000, 0.000000, 0.000000, 0.000000, 0.000000, 0.000000, 0.000000, 0.000000, 0.000000, 0.000000, 0.000000, 0.000000, 0.000000, 0.000000, 0.000000, 0.000000, 0.000000, 0.000000, 0.000000, 0.000000, 0.000000, 0.000000, 0.000000, 0.000000, 0.000000, 0.000000, 0.000000, 0.000000, 0.000000, 0.000000, 0.000000, 0.000000, 0.000000, 0.000000, 0.000000, 0.000000, 0.000000, 0.000000, 0.000000, 0.000000, 0.000000, 0.000000, 0.000000, 0.000000, 0.000000, 0.000000, 0.000000, 0.000000, 0.000000]\n",
      "\n"
     ]
    }
   ],
   "source": [
    "# --- 4. Flatten and Dense Layers ---\n",
    "print(\"--- Flattening Output for Dense Layers ---\")\n",
    "dense_one_input = pool_two_output.flatten()\n",
    "print(f\"Flattening complete. Input size for FC1: {dense_one_input.shape[0]}\\n\")\n",
    "print_output_vector(dense_one_input, \"Logits (INITIAL)\")"
   ]
  },
  {
   "cell_type": "code",
   "execution_count": 29,
   "id": "a4f3efd1",
   "metadata": {},
   "outputs": [
    {
     "name": "stdout",
     "output_type": "stream",
     "text": [
      "--- Running DENSE1 -> RELU ---\n",
      "  Logits (FC1):\n",
      "    [0.018149, 0.000000, 0.007517, 0.000000, 0.000000, 0.124135, 0.066744, 0.021024, 0.000000, 0.000000, 0.000000, 0.000000, 0.002011, 0.072472, 0.000000, 0.000000, 0.000000, 0.000000, 0.000000, 0.017108, 0.000000, 0.000000, 0.042124, 0.020060, 0.000000, 0.000000, 0.000000, 0.000000, 0.000000, 0.076161, 0.000000, 0.000000, 0.037448, 0.010059, 0.027473, 0.029273, 0.036703, 0.073573, 0.000000, 0.000000, 0.000000, 0.000000, 0.000000, 0.000000, 0.047025, 0.027201, 0.097104, 0.038254, 0.000000, 0.000000, 0.000000, 0.000000, 0.000000, 0.001817, 0.035273, 0.000000, 0.000000, 0.000000, 0.039531, 0.000000, 0.103109, 0.000000, 0.000000, 0.090636, 0.000000, 0.041314, 0.000000, 0.000000, 0.000000, 0.000000, 0.000000, 0.005445, 0.089195, 0.076087, 0.000000, 0.024069, 0.000000, 0.023788, 0.047666, 0.004387, 0.011409, 0.018119, 0.000000, 0.000000, 0.014813, 0.014606, 0.008696, 0.000000, 0.000000, 0.000000, 0.000000, 0.000000, 0.061535, 0.000000, 0.000000, 0.019201, 0.031787, 0.014337, 0.000000, 0.000000, 0.143359, 0.000000, 0.019488, 0.000000, 0.000000, 0.000000, 0.022843, 0.010296, 0.000000, 0.020281, 0.001416, 0.000000, 0.058254, 0.011441, 0.000000, 0.000000, 0.000000, 0.085845, 0.000000, 0.066867]\n",
      "\n"
     ]
    }
   ],
   "source": [
    "print(\"--- Running DENSE1 -> RELU ---\")\n",
    "dense_one_output = fc1_weight @ dense_one_input + fc1_bias\n",
    "dense_one_output_relu = np.maximum(0, dense_one_output)\n",
    "print_output_vector(dense_one_output_relu, \"Logits (FC1)\")"
   ]
  },
  {
   "cell_type": "code",
   "execution_count": 30,
   "id": "faf0ce8e",
   "metadata": {},
   "outputs": [
    {
     "name": "stdout",
     "output_type": "stream",
     "text": [
      "--- Running DENSE2 -> RELU ---\n",
      "  Logits (FC2):\n",
      "    [0.051727, 0.119112, 0.236509, 0.026136, 0.000000, 0.142423, 0.006859, 0.104868, 0.168603, 0.002270, 0.000000, 0.069113, 0.000000, 0.025621, 0.048301, 0.208578, 0.000000, 0.000000, 0.000000, 0.000000, 0.000000, 0.179778, 0.000000, 0.000000, 0.000000, 0.171219, 0.000000, 0.102268, 0.054697, 0.144813, 0.013344, 0.018867, 0.000000, 0.056256, 0.022479, 0.000000, 0.000000, 0.099911, 0.000000, 0.000000, 0.117540, 0.189064, 0.000000, 0.065537, 0.113191, 0.000000, 0.000000, 0.031571, 0.121755, 0.000000, 0.021920, 0.100286, 0.000000, 0.142740, 0.000000, 0.000000, 0.000000, 0.000000, 0.000000, 0.034261, 0.150238, 0.119610, 0.014704, 0.056657, 0.000000, 0.176617, 0.000000, 0.000000, 0.000000, 0.166932, 0.086276, 0.149714, 0.135327, 0.081560, 0.147315, 0.102524, 0.000000, 0.039621, 0.000000, 0.000000, 0.000000, 0.000000, 0.000000, 0.000000]\n",
      "\n"
     ]
    }
   ],
   "source": [
    "print(\"--- Running DENSE2 -> RELU ---\")\n",
    "dense_two_output = fc2_weight @ dense_one_output_relu + fc2_bias\n",
    "dense_two_output_relu = np.maximum(0, dense_two_output)\n",
    "print_output_vector(dense_two_output_relu, \"Logits (FC2)\")\n"
   ]
  },
  {
   "cell_type": "code",
   "execution_count": 27,
   "id": "c4c98245",
   "metadata": {},
   "outputs": [
    {
     "name": "stdout",
     "output_type": "stream",
     "text": [
      "--- Running DENSE3 (Output Layer) ---\n",
      "  Logits (Output Before Softmax):\n",
      "    [-0.391998, 0.244302, -0.370132, -0.183586, 0.010328, -0.173416, -0.232156, -0.044213, -0.000342, -0.016745]\n",
      "\n"
     ]
    }
   ],
   "source": [
    "print(\"--- Running DENSE3 (Output Layer) ---\")\n",
    "final_output_logits = fc3_weight @ dense_two_output_relu + fc3_bias\n",
    "print_output_vector(final_output_logits, \"Logits (Output Before Softmax)\")"
   ]
  },
  {
   "cell_type": "code",
   "execution_count": 28,
   "id": "fe2279ad",
   "metadata": {},
   "outputs": [
    {
     "name": "stdout",
     "output_type": "stream",
     "text": [
      "--- Applying Softmax ---\n",
      "  Final Probabilities:\n",
      "    [0.074588, 0.140933, 0.076237, 0.091872, 0.111532, 0.092811, 0.087516, 0.105611, 0.110348, 0.108553]\n",
      "\n"
     ]
    }
   ],
   "source": [
    "print(\"--- Applying Softmax ---\")\n",
    "final_probabilities = softmax(final_output_logits)\n",
    "print_output_vector(final_probabilities, \"Final Probabilities\")"
   ]
  },
  {
   "cell_type": "code",
   "execution_count": null,
   "id": "f689d6d2",
   "metadata": {},
   "outputs": [],
   "source": []
  }
 ],
 "metadata": {
  "kernelspec": {
   "display_name": "ML",
   "language": "python",
   "name": "python3"
  },
  "language_info": {
   "codemirror_mode": {
    "name": "ipython",
    "version": 3
   },
   "file_extension": ".py",
   "mimetype": "text/x-python",
   "name": "python",
   "nbconvert_exporter": "python",
   "pygments_lexer": "ipython3",
   "version": "3.12.11"
  }
 },
 "nbformat": 4,
 "nbformat_minor": 5
}
