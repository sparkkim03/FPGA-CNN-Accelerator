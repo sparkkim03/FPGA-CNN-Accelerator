{
 "cells": [
  {
   "cell_type": "code",
   "execution_count": 2,
   "id": "add0dc31",
   "metadata": {},
   "outputs": [],
   "source": [
    "import numpy as np\n",
    "from scipy import signal"
   ]
  },
  {
   "cell_type": "code",
   "execution_count": 9,
   "id": "9665bb7d",
   "metadata": {},
   "outputs": [
    {
     "name": "stdout",
     "output_type": "stream",
     "text": [
      "Kernel:\n",
      "[[0 1 2]\n",
      " [3 4 5]\n",
      " [6 7 8]]\n",
      "Activation Map:\n",
      "[[ 0  1  2  3]\n",
      " [ 4  5  6  7]\n",
      " [ 8  9 10 11]\n",
      " [12 13 14 15]]\n",
      "Convolution Result:\n",
      "[[258 294]\n",
      " [402 438]]\n"
     ]
    }
   ],
   "source": [
    "# Golden model for 2D convolution\n",
    "# Used to compare with the hardware implementation\n",
    "\n",
    "k = 3\n",
    "n = 4\n",
    "\n",
    "kernel = np.arange(0, k*k, 1).reshape((k, k))\n",
    "activation_map = np.arange(0, n*n, 1).reshape((n, n))\n",
    "\n",
    "conv1 = signal.correlate2d(activation_map, kernel, mode='valid')\n",
    "conv2 = signal.convolve2d(activation_map, kernel, mode='valid')\n",
    "\n",
    "print(\"Kernel:\")\n",
    "print(kernel)\n",
    "print(\"Activation Map:\")\n",
    "print(activation_map)\n",
    "print(\"Convolution Result:\")\n",
    "print(conv1)"
   ]
  },
  {
   "cell_type": "code",
   "execution_count": null,
   "id": "35fb1eb1",
   "metadata": {},
   "outputs": [],
   "source": []
  }
 ],
 "metadata": {
  "kernelspec": {
   "display_name": "Python 3",
   "language": "python",
   "name": "python3"
  },
  "language_info": {
   "codemirror_mode": {
    "name": "ipython",
    "version": 3
   },
   "file_extension": ".py",
   "mimetype": "text/x-python",
   "name": "python",
   "nbconvert_exporter": "python",
   "pygments_lexer": "ipython3",
   "version": "3.13.3"
  }
 },
 "nbformat": 4,
 "nbformat_minor": 5
}
