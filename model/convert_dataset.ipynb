{
 "cells": [
  {
   "cell_type": "code",
   "execution_count": 2,
   "id": "61d22526",
   "metadata": {},
   "outputs": [],
   "source": [
    "import numpy as np\n",
    "import os\n",
    "import struct"
   ]
  },
  {
   "cell_type": "code",
   "execution_count": 3,
   "id": "a84b7a55",
   "metadata": {},
   "outputs": [],
   "source": [
    "def read_idx(filename):\n",
    "    with open(filename, 'rb') as f:\n",
    "        # Read the magic number and number of dimensions\n",
    "        zero, data_type, num_dimensions = struct.unpack('>HBB', f.read(4))\n",
    "        # Read the dimensions of the data\n",
    "        shape = tuple(struct.unpack('>I', f.read(4))[0] for d in range(num_dimensions))\n",
    "        # Read the rest of the data and reshape it\n",
    "        return np.frombuffer(f.read(), dtype=np.uint8).reshape(shape)"
   ]
  },
  {
   "cell_type": "code",
   "execution_count": 4,
   "id": "46069098",
   "metadata": {},
   "outputs": [
    {
     "name": "stdout",
     "output_type": "stream",
     "text": [
      "10000 images loaded\n"
     ]
    }
   ],
   "source": [
    "image_file = '../data/MNIST/raw/t10k-images-idx3-ubyte'\n",
    "lable_file = '../data/MNIST/raw/t10k-labels-idx1-ubyte'\n",
    "\n",
    "images = read_idx(image_file)\n",
    "labels = read_idx(lable_file)\n",
    "\n",
    "print(f\"{images.shape[0]} images loaded\")\n",
    "output_dir = 'data'\n",
    "\n",
    "os.mkdir(output_dir)\n",
    "\n",
    "num_to_save = min(100, images.shape[0])\n",
    "\n",
    "for i in range(num_to_save):\n",
    "        image_array = images[i]\n",
    "        label = labels[i]\n",
    "\n",
    "        filename = os.path.join(output_dir, f\"digit_{label}_index_{i}.txt\")\n",
    "        np.savetxt(filename, image_array, fmt='%d')\n"
   ]
  },
  {
   "cell_type": "code",
   "execution_count": null,
   "id": "e9e6dff2",
   "metadata": {},
   "outputs": [],
   "source": []
  }
 ],
 "metadata": {
  "kernelspec": {
   "display_name": "Python 3",
   "language": "python",
   "name": "python3"
  },
  "language_info": {
   "codemirror_mode": {
    "name": "ipython",
    "version": 3
   },
   "file_extension": ".py",
   "mimetype": "text/x-python",
   "name": "python",
   "nbconvert_exporter": "python",
   "pygments_lexer": "ipython3",
   "version": "3.13.3"
  }
 },
 "nbformat": 4,
 "nbformat_minor": 5
}
